{
 "cells": [
  {
   "cell_type": "code",
   "execution_count": 4,
   "metadata": {},
   "outputs": [],
   "source": [
    "import socket\n",
    "import time\n",
    "import cv2\n",
    "import os\n",
    "import pyrealsense2 as rs\n",
    "import numpy as np\n",
    "\n",
    "def take_picture(filename):\n",
    "\n",
    "    # Configure depth and color streams\n",
    "    pipeline = rs.pipeline()\n",
    "    config = rs.config()\n",
    "    config.enable_stream(rs.stream.color, 640, 480, rs.format.bgr8, 30)\n",
    "\n",
    "    # Start streaming\n",
    "    pipeline.start(config)\n",
    "\n",
    "    try:\n",
    "        for i in range(80):\n",
    "            frames = pipeline.wait_for_frames()\n",
    "            color_frame = frames.get_color_frame()\n",
    "            color_image = np.asanyarray(color_frame.get_data())\n",
    "        \n",
    "        cv2.imwrite(filename, color_image)\n",
    "    finally:\n",
    "        # Stop streaming\n",
    "        pipeline.stop()\n",
    "        \n",
    "def send_image(file, tcp_socket, debug = False):\n",
    "\n",
    "    file_size = os.stat(file).st_size  \n",
    "    file_info = '%s|%s|'%(file,file_size)\n",
    "    if debug:\n",
    "        print(file_info)\n",
    "    tcp_socket.sendall(file_info.encode('utf-8'))   #第一次发送请求，不是具体内容，而是先发送数据信息  \n",
    "\n",
    "    f = open(file,'rb')\n",
    "    has_sent = 0\n",
    "    while has_sent != file_size:\n",
    "        data = f.read(1024)  \n",
    "        tcp_socket.sendall(data)                    #发送真实数据  \n",
    "        has_sent += len(data)  \n",
    "\n",
    "    f.close()\n",
    "    if debug:\n",
    "        print('sended')"
   ]
  },
  {
   "cell_type": "code",
   "execution_count": 5,
   "metadata": {},
   "outputs": [
    {
     "name": "stdout",
     "output_type": "stream",
     "text": [
      "picture taken\n",
      "host connected\n",
      "realsense1564409694.jpg|62237|\n",
      "sended\n",
      "receiving result...\n",
      "result:\n",
      "250.51494598388672|175.11533737182617|382.9859733581543|266.4535713195801|0.54945093|1.0|\n",
      "90.49444913864136|289.7757911682129|137.79805183410645|350.3803253173828|0.5457444|2.0|\n",
      "250.3395652770996|205.49386978149414|382.9145622253418|297.28708267211914|0.5396735|1.0|\n",
      "\n",
      "connection closed\n"
     ]
    }
   ],
   "source": [
    "img = 'realsense' + str(int(time.time())) + '.jpg'\n",
    "take_picture(img)\n",
    "print('picture taken')\n",
    "try:\n",
    "    sk = socket.socket()\n",
    "    sk.connect(('192.168.137.23', 22222))\n",
    "    print('host connected')\n",
    "    send_image(img, sk, debug = True)\n",
    "    print('receiving result...')\n",
    "    data = sk.recv(1024).decode()\n",
    "    print('result:\\n' + data)\n",
    "finally:\n",
    "    sk.close()\n",
    "    print('connection closed')"
   ]
  },
  {
   "cell_type": "code",
   "execution_count": null,
   "metadata": {},
   "outputs": [],
   "source": [
    "time.time()"
   ]
  }
 ],
 "metadata": {
  "kernelspec": {
   "display_name": "Python 3",
   "language": "python",
   "name": "python3"
  },
  "language_info": {
   "codemirror_mode": {
    "name": "ipython",
    "version": 3
   },
   "file_extension": ".py",
   "mimetype": "text/x-python",
   "name": "python",
   "nbconvert_exporter": "python",
   "pygments_lexer": "ipython3",
   "version": "3.6.8"
  }
 },
 "nbformat": 4,
 "nbformat_minor": 2
}
